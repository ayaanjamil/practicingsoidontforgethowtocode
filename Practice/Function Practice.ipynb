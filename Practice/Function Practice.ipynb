{
 "cells": [
  {
   "cell_type": "markdown",
   "id": "c41ce52e",
   "metadata": {},
   "source": [
    "Warm Up"
   ]
  },
  {
   "cell_type": "code",
   "execution_count": 10,
   "id": "c0f92694",
   "metadata": {},
   "outputs": [],
   "source": [
    "\"\"\"\n",
    "LESSER OF TWO EVENS: Write a function that returns the lesser of two given numbers if both numbers are even,\n",
    "but returns the greater if one or both numbers are odd.\n",
    "lesser_of_two_evens(2,4) --> 2\n",
    "lesser_of_two_evens(2,5) --> 5\n",
    "\"\"\"\n",
    "\n",
    "def lesserOfTwoEvens(a, b):\n",
    "    if a%2==0 and b%2==0:\n",
    "        if a<b:\n",
    "            return a\n",
    "        else:\n",
    "            return b\n",
    "    else:\n",
    "        if a>b:\n",
    "            return a\n",
    "        else:\n",
    "            return b\n",
    "#i just realized i couldve used min() and max() but ehh this serves the purpose"
   ]
  },
  {
   "cell_type": "code",
   "execution_count": 8,
   "id": "edc2ecbf",
   "metadata": {},
   "outputs": [],
   "source": [
    "\"\"\"\n",
    "ANIMAL CRACKERS: Write a function takes a two-word string and returns True if both words begin with same letter\n",
    "animal_crackers('Levelheaded Llama') --> True\n",
    "animal_crackers('Crazy Kangaroo') --> False\n",
    "\"\"\"\n",
    "def animalCrackers(x):\n",
    "    return x.split()[0][0] == x.split()[1][0]"
   ]
  },
  {
   "cell_type": "code",
   "execution_count": 9,
   "id": "913b059f",
   "metadata": {},
   "outputs": [],
   "source": [
    "\"\"\"\n",
    "MAKES TWENTY: Given two integers, return True if the sum of the integers is 20 or if one of the integers is 20. If not, return False\n",
    "makes_twenty(20,10) --> True\n",
    "makes_twenty(12,8) --> True\n",
    "makes_twenty(2,3) --> False\n",
    "\"\"\"\n",
    "def makesTwenty(a, b):\n",
    "    return (a+b == 20) or a == 20 or b == 20"
   ]
  },
  {
   "cell_type": "markdown",
   "id": "0938457c",
   "metadata": {},
   "source": [
    "Level 1"
   ]
  },
  {
   "cell_type": "code",
   "execution_count": 14,
   "id": "1abc5632",
   "metadata": {},
   "outputs": [],
   "source": [
    "\"\"\"\n",
    "OLD MACDONALD: Write a function that capitalizes the first and fourth letters of a name\n",
    "old_macdonald('macdonald') --> MacDonald\n",
    "\n",
    "Note: 'macdonald'.capitalize() returns 'Macdonald'\n",
    "\"\"\"\n",
    "def oldMacdonald(x):\n",
    "    return (x[0].upper() + x[1:3] + x[3].upper() +x[4:])"
   ]
  },
  {
   "cell_type": "code",
   "execution_count": 20,
   "id": "ca534475",
   "metadata": {},
   "outputs": [],
   "source": [
    "\"\"\"\n",
    "MASTER YODA: Given a sentence, return a sentence with the words reversed\n",
    "master_yoda('I am home') --> 'home am I'\n",
    "master_yoda('We are ready') --> 'ready are We'\n",
    "\"\"\"\n",
    "def masterYoda(x):\n",
    "    x = x.split()\n",
    "    x = x[::-1]\n",
    "    return (\" \".join(x))"
   ]
  },
  {
   "cell_type": "code",
   "execution_count": 28,
   "id": "5c40e45a",
   "metadata": {},
   "outputs": [],
   "source": [
    "\"\"\"\n",
    "ALMOST THERE: Given an integer n, return True if n is within 10 of either 100 or 200\n",
    "almost_there(90) --> True\n",
    "almost_there(104) --> True\n",
    "almost_there(150) --> False\n",
    "almost_there(209) --> True\n",
    "NOTE: abs(num) returns the absolute value of a number\n",
    "\"\"\"\n",
    "def almostThere(x):\n",
    "    return ((abs(100-x)<=10) or (abs(200-x)<=10))"
   ]
  }
 ],
 "metadata": {
  "kernelspec": {
   "display_name": "Python 3 (ipykernel)",
   "language": "python",
   "name": "python3"
  },
  "language_info": {
   "codemirror_mode": {
    "name": "ipython",
    "version": 3
   },
   "file_extension": ".py",
   "mimetype": "text/x-python",
   "name": "python",
   "nbconvert_exporter": "python",
   "pygments_lexer": "ipython3",
   "version": "3.8.9"
  }
 },
 "nbformat": 4,
 "nbformat_minor": 5
}
